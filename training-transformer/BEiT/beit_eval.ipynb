{
  "nbformat": 4,
  "nbformat_minor": 0,
  "metadata": {
    "colab": {
      "provenance": [],
      "gpuType": "T4"
    },
    "kernelspec": {
      "name": "python3",
      "display_name": "Python 3"
    },
    "language_info": {
      "name": "python"
    },
    "accelerator": "GPU"
  },
  "cells": [
    {
      "cell_type": "code",
      "execution_count": null,
      "metadata": {
        "colab": {
          "base_uri": "https://localhost:8080/"
        },
        "id": "duxkLmNzcSMT",
        "outputId": "cb2ed142-4857-41bb-d30e-9a4458a58e55"
      },
      "outputs": [
        {
          "output_type": "stream",
          "name": "stdout",
          "text": [
            "Drive already mounted at /content/drive; to attempt to forcibly remount, call drive.mount(\"/content/drive\", force_remount=True).\n",
            "Device: cuda\n"
          ]
        },
        {
          "output_type": "stream",
          "name": "stderr",
          "text": [
            "Some weights of BeitForImageClassification were not initialized from the model checkpoint at microsoft/beit-base-patch16-224 and are newly initialized because the shapes did not match:\n",
            "- classifier.bias: found shape torch.Size([1000]) in the checkpoint and torch.Size([9]) in the model instantiated\n",
            "- classifier.weight: found shape torch.Size([1000, 768]) in the checkpoint and torch.Size([9, 768]) in the model instantiated\n",
            "You should probably TRAIN this model on a down-stream task to be able to use it for predictions and inference.\n"
          ]
        },
        {
          "output_type": "stream",
          "name": "stdout",
          "text": [
            "\n",
            "Overall Accuracy: 95.28%\n",
            "\n",
            "Class                     Precision  Recall     F1-Score   Class Acc \n",
            "----------------------------------------------------------------------\n",
            "algal_spot                0.99       0.97       0.98       97.06     \n",
            "brown_blight              0.85       0.99       0.91       98.51     \n",
            "gray_blight               0.98       0.87       0.92       86.50     \n",
            "healthy                   0.91       1.00       0.95       100.00    \n",
            "helopeltis                1.00       0.93       0.96       92.67     \n",
            "red-rust                  0.88       0.92       0.90       91.67     \n",
            "red-spider-infested       1.00       1.00       1.00       100.00    \n",
            "red_spot                  1.00       0.97       0.99       97.09     \n",
            "white-spot                1.00       1.00       1.00       100.00    \n"
          ]
        }
      ],
      "source": [
        "import torch\n",
        "import torch.nn as nn\n",
        "from torchvision import datasets, transforms\n",
        "from torch.utils.data import DataLoader\n",
        "from transformers import BeitForImageClassification\n",
        "from sklearn.metrics import classification_report, confusion_matrix\n",
        "from google.colab import drive\n",
        "\n",
        "drive.mount('/content/drive')\n",
        "\n",
        "IMAGE_SIZE = 224\n",
        "BATCH_SIZE = 8\n",
        "NUM_WORKERS = 2\n",
        "NUM_CLASSES = 9\n",
        "DEVICE = torch.device(\"cuda\" if torch.cuda.is_available() else \"cpu\")\n",
        "print(\"Device:\", DEVICE)\n",
        "\n",
        "val_transforms = transforms.Compose([\n",
        "    transforms.Resize(IMAGE_SIZE),\n",
        "    transforms.CenterCrop(IMAGE_SIZE),\n",
        "    transforms.ToTensor(),\n",
        "    transforms.Normalize([0.5]*3, [0.5]*3)\n",
        "])\n",
        "\n",
        "val_dataset = datasets.ImageFolder('/content/drive/MyDrive/dataset-dapa/test/', transform=val_transforms)\n",
        "val_loader = DataLoader(val_dataset, batch_size=BATCH_SIZE, shuffle=False, num_workers=NUM_WORKERS, pin_memory=True)\n",
        "\n",
        "model = BeitForImageClassification.from_pretrained(\n",
        "    \"microsoft/beit-base-patch16-224\",\n",
        "    num_labels=NUM_CLASSES,\n",
        "    ignore_mismatched_sizes=True\n",
        ")\n",
        "\n",
        "model.classifier = nn.Sequential(\n",
        "    nn.Dropout(0.3),\n",
        "    nn.Linear(model.classifier.in_features, NUM_CLASSES)\n",
        ")\n",
        "\n",
        "model.load_state_dict(torch.load('/content/drive/MyDrive/BEiT-15epoch.pth', map_location=DEVICE))\n",
        "model.to(DEVICE)\n",
        "model.eval()\n",
        "\n",
        "def evaluate_model(model, loader, device, class_names):\n",
        "    correct = 0\n",
        "    total = 0\n",
        "    all_preds = []\n",
        "    all_labels = []\n",
        "\n",
        "    with torch.no_grad():\n",
        "        for images, labels in loader:\n",
        "            images, labels = images.to(device), labels.to(device)\n",
        "            outputs = model(images)\n",
        "            _, preds = torch.max(outputs.logits, 1)\n",
        "\n",
        "            total += labels.size(0)\n",
        "            correct += (preds == labels).sum().item()\n",
        "\n",
        "            all_preds.extend(preds.cpu().numpy())\n",
        "            all_labels.extend(labels.cpu().numpy())\n",
        "\n",
        "    acc = 100 * correct / total\n",
        "    print(f\"\\nOverall Accuracy: {acc:.2f}%\\n\")\n",
        "\n",
        "    report = classification_report(all_labels, all_preds, target_names=class_names, output_dict=True)\n",
        "    cm = confusion_matrix(all_labels, all_preds)\n",
        "    per_class_acc = cm.diagonal() / cm.sum(axis=1)\n",
        "\n",
        "    print(f\"{'Class':<25} {'Precision':<10} {'Recall':<10} {'F1-Score':<10} {'Class Acc':<10}\")\n",
        "    print(\"-\" * 70)\n",
        "    for idx, class_name in enumerate(class_names):\n",
        "        cls = report[class_name]\n",
        "        print(f\"{class_name:<25} {cls['precision']:<10.2f} {cls['recall']:<10.2f} {cls['f1-score']:<10.2f} {per_class_acc[idx]*100:<10.2f}\")\n",
        "\n",
        "evaluate_model(model, val_loader, DEVICE, val_dataset.classes)\n"
      ]
    }
  ]
}