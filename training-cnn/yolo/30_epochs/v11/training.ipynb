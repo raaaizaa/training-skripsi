{
 "cells": [
  {
   "cell_type": "code",
   "execution_count": 1,
   "id": "c6a8198d",
   "metadata": {},
   "outputs": [],
   "source": [
    "import torch\n",
    "from ultralytics import YOLO"
   ]
  },
  {
   "cell_type": "code",
   "execution_count": 2,
   "id": "f2710135",
   "metadata": {},
   "outputs": [],
   "source": [
    "NUM_CLASSES = 9\n",
    "NUM_WORKERS = 2\n",
    "NUM_EPOCHS  = 30\n",
    "BATCH_SIZE = 8\n",
    "\n",
    "IMAGE_SIZE = 224\n",
    "LEARNING_RATE = 1e-3"
   ]
  },
  {
   "cell_type": "code",
   "execution_count": 3,
   "id": "f990875b",
   "metadata": {},
   "outputs": [
    {
     "name": "stdout",
     "output_type": "stream",
     "text": [
      "Downloading https://github.com/ultralytics/assets/releases/download/v8.3.0/yolo11n-cls.pt to 'yolo11n-cls.pt'...\n"
     ]
    },
    {
     "name": "stderr",
     "output_type": "stream",
     "text": [
      "100%|██████████| 5.52M/5.52M [00:01<00:00, 3.75MB/s]\n"
     ]
    }
   ],
   "source": [
    "pretrained_model_path = 'yolo11n-cls.pt'\n",
    "model = YOLO(model=pretrained_model_path, task='classify')\n",
    "device = torch.device('cuda' if torch.cuda.is_available() else 'cpu')\n",
    "model = model.to(device)"
   ]
  },
  {
   "cell_type": "code",
   "execution_count": null,
   "id": "baa5624c",
   "metadata": {},
   "outputs": [],
   "source": [
    "dataset_path = '../../../../dataset'\n",
    "name = 'yolov11_cls'\n",
    "project_path = './runs/train'\n",
    "\n",
    "training_args = {\n",
    "    # train configuration\n",
    "    'data': dataset_path,\n",
    "    'project': project_path,\n",
    "    'name': name,\n",
    "\n",
    "    'pretrained': True,\n",
    "    'optimizer': 'Adam',\n",
    "    'mode': 'train',\n",
    "    'device': device,\n",
    "    'task': 'classify',\n",
    "    'exist_ok': True,\n",
    "\n",
    "    'epochs': NUM_EPOCHS,\n",
    "    'workers': NUM_WORKERS,\n",
    "    'batch': BATCH_SIZE,\n",
    "    'lr0': LEARNING_RATE,\n",
    "    'patience': 50,\n",
    "\n",
    "     # hyperparameter setting\n",
    "    'imgsz': IMAGE_SIZE,\n",
    "    'hsv_v': 0.2,\n",
    "    'degrees': 15.0,\n",
    "    'translate': 0.1,\n",
    "    'scale': 0.5,\n",
    "    'shear': 0.0,\n",
    "    'flipud': 0.5,\n",
    "    'fliplr': 0.5,\n",
    "    'mosaic': 0.0,\n",
    "    'mixup': 0.0,\n",
    "}"
   ]
  },
  {
   "cell_type": "code",
   "execution_count": null,
   "id": "6ad66c47",
   "metadata": {},
   "outputs": [],
   "source": [
    "\n",
    "results = model.train(**training_args)\n",
    "print(f\"result model train YOLO v11: {results}\")"
   ]
  }
 ],
 "metadata": {
  "kernelspec": {
   "display_name": ".venv (3.12.3)",
   "language": "python",
   "name": "python3"
  },
  "language_info": {
   "codemirror_mode": {
    "name": "ipython",
    "version": 3
   },
   "file_extension": ".py",
   "mimetype": "text/x-python",
   "name": "python",
   "nbconvert_exporter": "python",
   "pygments_lexer": "ipython3",
   "version": "3.12.3"
  }
 },
 "nbformat": 4,
 "nbformat_minor": 5
}
