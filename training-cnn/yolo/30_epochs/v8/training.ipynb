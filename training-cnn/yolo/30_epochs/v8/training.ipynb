{
    "cells": [
        {
            "cell_type": "code",
            "execution_count": 1,
            "id": "9b2f905b",
            "metadata": {},
            "outputs": [],
            "source": [
                "import torch\n",
                "from ultralytics import YOLO"
            ]
        },
        {
            "cell_type": "code",
            "execution_count": 2,
            "id": "fe5fa1a3",
            "metadata": {},
            "outputs": [],
            "source": [
                "NUM_CLASSES = 9\n",
                "NUM_WORKERS = 2\n",
                "NUM_EPOCHS = 30\n",
                "\n",
                "BATCH_SIZE = 8\n",
                "IMAGE_SIZE = 224\n",
                "LEARNING_RATE = 1e-3"
            ]
        },
        {
            "cell_type": "code",
            "execution_count": 3,
            "id": "7e50bf77",
            "metadata": {},
            "outputs": [
                {
                    "name": "stdout",
                    "output_type": "stream",
                    "text": [
                        "Downloading https://github.com/ultralytics/assets/releases/download/v8.3.0/yolov8n-cls.pt to 'yolov8n-cls.pt'...\n"
                    ]
                },
                {
                    "name": "stderr",
                    "output_type": "stream",
                    "text": [
                        "100%|██████████| 5.31M/5.31M [00:03<00:00, 1.69MB/s]\n"
                    ]
                }
            ],
            "source": [
                "pretrained_model_path = 'yolov8n-cls.pt'\n",
                "model = YOLO(pretrained_model_path, task='classify')\n",
                "device = torch.device(\"cuda\" if torch.cuda.is_available() else \"cpu\")\n",
                "model = model.to(device)"
            ]
        },
        {
            "cell_type": "code",
            "execution_count": 4,
            "id": "4011817e",
            "metadata": {},
            "outputs": [],
            "source": [
                "dataset_path = '../../../../dataset'\n",
                "name = 'yolov8_cls'\n",
                "project_path = './runs/train'\n",
                "\n",
                "training_args = {\n",
                "    # train configuration\n",
                "    'data': dataset_path,\n",
                "    'project': project_path,\n",
                "    'name': name,\n",
                "\n",
                "    'pretrained': True,\n",
                "    'optimizer': 'Adam',\n",
                "    'mode': 'train',\n",
                "    'device': device,\n",
                "    'task': 'classify',\n",
                "    'exist_ok': True,\n",
                "\n",
                "    'epochs': NUM_EPOCHS,\n",
                "    'workers': NUM_WORKERS,\n",
                "    'batch': BATCH_SIZE,\n",
                "    'lr0': LEARNING_RATE,\n",
                "    'patience': 50,\n",
                "\n",
                "    # hyperparameter setting\n",
                "    'imgsz': IMAGE_SIZE,\n",
                "    'hsv_h': 0.015,\n",
                "    'hsv_s': 0.7,\n",
                "    'hsv_v': 0.4,\n",
                "    'degrees': 10.0,\n",
                "    'translate': 0.1,\n",
                "    'scale': 0.5,\n",
                "    'shear': 0.0,\n",
                "    'flipud': 0.0,\n",
                "    'fliplr': 0.5,\n",
                "    'mosaic': 0.0,\n",
                "    'mixup': 0.0,\n",
                "}"
            ]
        },
        {
            "cell_type": "code",
            "execution_count": null,
            "id": "6207da03",
            "metadata": {},
            "outputs": [],
            "source": [
                "results = model.train(**training_args)\n",
                "print(f\"result model train YOLO v8: {results}\")"
            ]
        }
    ],
    "metadata": {
        "kernelspec": {
            "display_name": ".venv (3.12.3)",
            "language": "python",
            "name": "python3"
        },
        "language_info": {
            "codemirror_mode": {
                "name": "ipython",
                "version": 3
            },
            "file_extension": ".py",
            "mimetype": "text/x-python",
            "name": "python",
            "nbconvert_exporter": "python",
            "pygments_lexer": "ipython3",
            "version": "3.12.3"
        }
    },
    "nbformat": 4,
    "nbformat_minor": 5
}
