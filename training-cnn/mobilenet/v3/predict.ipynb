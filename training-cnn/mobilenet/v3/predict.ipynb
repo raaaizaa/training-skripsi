{
 "cells": [
  {
   "cell_type": "code",
   "execution_count": null,
   "metadata": {},
   "outputs": [],
   "source": [
    "import argparse\n",
    "import torch\n",
    "import torch.nn as nn\n",
    "from torchvision import transforms, models\n",
    "from PIL import Image\n",
    "import matplotlib.pyplot as plt"
   ]
  },
  {
   "cell_type": "code",
   "execution_count": null,
   "metadata": {},
   "outputs": [],
   "source": [
    "parser = argparse.ArgumentParser(description=\"Predict tea leaf disease from an image\")\n",
    "parser.add_argument(\n",
    "    \"--img\", \"-i\",\n",
    "    required=True,\n",
    "    help=\"Path to the input tea‑leaf image\"\n",
    ")\n",
    "parser.add_argument(\n",
    "    \"--checkpoint\", \"-c\",\n",
    "    default=\"best_mobilenetv2_teadiseases.pth\",\n",
    "    help=\"Path to the trained model checkpoint\"\n",
    ")\n",
    "args = parser.parse_args()\n",
    "\n",
    "IMAGE_SIZE  = 224\n",
    "CLASS_NAMES = [\n",
    "    'algal_spot',\n",
    "    'brown_blight',\n",
    "    'gray_blight',\n",
    "    'healthy',\n",
    "    'helopeltis',\n",
    "    'red-rust',\n",
    "    'red-spider-infested',\n",
    "    'red_spot',\n",
    "    'white-spot'\n",
    "]\n",
    "DEVICE = torch.device(\"cuda\" if torch.cuda.is_available() else \"cpu\")\n",
    "\n",
    "test_transform = transforms.Compose([\n",
    "    transforms.Resize(int(IMAGE_SIZE * 1.14)),\n",
    "    transforms.CenterCrop(IMAGE_SIZE),\n",
    "    transforms.ToTensor(),                      \n",
    "    transforms.Normalize(\n",
    "        mean=[0.485, 0.456, 0.406],\n",
    "        std=[0.229, 0.224, 0.225]\n",
    "    )\n",
    "])\n",
    "\n",
    "image = Image.open(args.img).convert(\"RGB\")\n",
    "input_tensor = test_transform(image).unsqueeze(0).to(DEVICE)\n",
    "\n",
    "model = models.mobilenet_v2(weights=None)\n",
    "model.classifier = nn.Sequential(\n",
    "    nn.Dropout(0.3),\n",
    "    nn.Linear(model.last_channel, len(CLASS_NAMES))\n",
    ")\n",
    "state = torch.load(args.checkpoint, map_location=DEVICE)\n",
    "model.load_state_dict(state)\n",
    "model.to(DEVICE)\n",
    "model.eval()\n",
    "\n",
    "with torch.no_grad():\n",
    "    outputs = model(input_tensor)\n",
    "    probs = torch.softmax(outputs, dim=1)\n",
    "    top5_probs, top5_indices = torch.topk(probs, k=5, dim=1)"
   ]
  },
  {
   "cell_type": "code",
   "execution_count": null,
   "metadata": {},
   "outputs": [],
   "source": [
    "# predicted_label = CLASS_NAMES[pred_idx]\n",
    "# print(f\"Predicted: {predicted_label} ({confidence*100:.1f}%)\")\n",
    "\n",
    "print(\"Top-5 Predictions:\")\n",
    "for i in range(5):\n",
    "    class_idx = top5_indices[0][i].item()\n",
    "    class_prob = top5_probs[0][i].item()\n",
    "    print(f\"{i+1}. {CLASS_NAMES[class_idx]} ({class_prob*100:.2f}%)\")\n",
    "\n",
    "plt.imshow(image)\n",
    "plt.title(f\"Top Prediction: {CLASS_NAMES[top5_indices[0][0].item()]} ({top5_probs[0][0].item()*100:.2f}%)\")\n",
    "plt.axis('off')\n",
    "plt.show()\n"
   ]
  }
 ],
 "metadata": {
  "language_info": {
   "name": "python"
  },
  "orig_nbformat": 4
 },
 "nbformat": 4,
 "nbformat_minor": 2
}
