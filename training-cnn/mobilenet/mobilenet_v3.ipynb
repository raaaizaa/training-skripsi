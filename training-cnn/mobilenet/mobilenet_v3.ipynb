{
 "cells": [
  {
   "cell_type": "code",
   "execution_count": 18,
   "id": "f2ad0e1f",
   "metadata": {},
   "outputs": [],
   "source": [
    "import torch\n",
    "import torch.nn as nn\n",
    "import torchvision.models as models\n",
    "from torchvision import datasets, transforms\n",
    "from torch.utils.data import DataLoader"
   ]
  },
  {
   "cell_type": "code",
   "execution_count": 19,
   "id": "1824cafa",
   "metadata": {},
   "outputs": [],
   "source": [
    "IMAGE_SIZE = 224\n",
    "BATCH_SIZE = 16\n",
    "NUM_WORKERS = 2\n",
    "MEAN = [0.485, 0.456, 0.406]\n",
    "STD  = [0.229, 0.224, 0.225]"
   ]
  },
  {
   "cell_type": "code",
   "execution_count": 20,
   "id": "7322098f",
   "metadata": {},
   "outputs": [],
   "source": [
    "train_transforms = transforms.Compose([\n",
    "    transforms.RandomResizedCrop(IMAGE_SIZE, scale=(0.8, 1.0)), # random crop & resize\n",
    "    transforms.RandomHorizontalFlip(),                          # horizontal flip\n",
    "    transforms.RandomVerticalFlip(),\n",
    "    transforms.RandomRotation(15),                              # small rotations\n",
    "    transforms.ColorJitter(brightness=0.2, contrast=0.2),  # color jitter\n",
    "    transforms.ToTensor(),                                      # to C×H×W tensor\n",
    "    transforms.Normalize(MEAN, STD)                             # normalize\n",
    "])\n",
    "\n",
    "val_transforms = transforms.Compose([\n",
    "    transforms.Resize(224),\n",
    "    transforms.CenterCrop(IMAGE_SIZE),          # crop to IMAGE_SIZE×IMAGE_SIZE\n",
    "    transforms.ToTensor(),\n",
    "    transforms.Normalize(MEAN, STD)\n",
    "])"
   ]
  },
  {
   "cell_type": "code",
   "execution_count": 21,
   "id": "8cfa235f",
   "metadata": {},
   "outputs": [],
   "source": [
    "train_dataset = datasets.ImageFolder(root='../../dataset-dapa/train/', transform=train_transforms)\n",
    "val_dataset   = datasets.ImageFolder(root='../../dataset-dapa/val/',   transform=val_transforms)\n",
    "\n",
    "train_loader = DataLoader(\n",
    "    train_dataset,\n",
    "    batch_size=BATCH_SIZE,\n",
    "    shuffle=True,\n",
    "    num_workers=NUM_WORKERS,\n",
    "    pin_memory=True\n",
    ")\n",
    "\n",
    "\n",
    "val_loader = DataLoader(\n",
    "    val_dataset,\n",
    "    batch_size=BATCH_SIZE,\n",
    "    shuffle=False,\n",
    "    num_workers=NUM_WORKERS,\n",
    "    pin_memory=True\n",
    ")"
   ]
  },
  {
   "cell_type": "code",
   "execution_count": 22,
   "id": "30f8ce8d",
   "metadata": {},
   "outputs": [
    {
     "name": "stdout",
     "output_type": "stream",
     "text": [
      "Batch shape: torch.Size([16, 3, 224, 224])\n",
      "Labels shape: torch.Size([16])\n"
     ]
    }
   ],
   "source": [
    "if __name__ == \"__main__\":\n",
    "    images, labels = next(iter(train_loader))\n",
    "    print(f\"Batch shape: {images.shape}\")  # e.g. [32, 3, 224, 224]\n",
    "    print(f\"Labels shape: {labels.shape}\")  # e.g. [32]\n",
    "\n",
    "model = models.mobilenet_v3_small(weights=models.MobileNet_V3_Small_Weights.IMAGENET1K_V1)\n",
    "backbone = model.features\n",
    "backbone.requires_grad_(False)\n",
    "\n",
    "num_classes = 9  # your nine tea disease classes\n",
    "classifier = nn.Sequential(\n",
    "    nn.Dropout(0.3),\n",
    "    nn.Linear(model.classifier[0].in_features, num_classes)\n",
    ")\n",
    "model.classifier = classifier"
   ]
  },
  {
   "cell_type": "code",
   "execution_count": null,
   "id": "88ca7536",
   "metadata": {},
   "outputs": [],
   "source": [
    "device = torch.device(\"cuda\" if torch.cuda.is_available() else \"cpu\")\n",
    "model.to(device)\n",
    "\n",
    "criterion = nn.CrossEntropyLoss()\n",
    "optimizer = torch.optim.Adam(model.classifier.parameters(), lr=1e-3)   # Train head with higher LR"
   ]
  },
  {
   "cell_type": "code",
   "execution_count": 24,
   "id": "92ffddfb",
   "metadata": {},
   "outputs": [],
   "source": [
    "def train_one_epoch(model, loader, optimizer, criterion, device):\n",
    "    model.train()\n",
    "    running_loss, correct, total = 0.0, 0, 0\n",
    "    for images, labels in loader:\n",
    "        images, labels = images.to(device), labels.to(device)\n",
    "        optimizer.zero_grad()\n",
    "        outputs = model(images)\n",
    "        loss = criterion(outputs, labels)\n",
    "        loss.backward()\n",
    "        optimizer.step()\n",
    "\n",
    "        running_loss += loss.item() * images.size(0)\n",
    "        preds = outputs.argmax(dim=1)\n",
    "        correct += (preds == labels).sum().item()\n",
    "        total += images.size(0)\n",
    "    return running_loss/total, correct/total\n",
    "\n",
    "def validate(model, loader, criterion, device):\n",
    "    model.eval()\n",
    "    val_loss, correct, total = 0.0, 0, 0\n",
    "    with torch.no_grad():\n",
    "        for images, labels in loader:\n",
    "            images, labels = images.to(device), labels.to(device)\n",
    "            outputs = model(images)\n",
    "            loss = criterion(outputs, labels)\n",
    "\n",
    "            val_loss += loss.item() * images.size(0)\n",
    "            preds = outputs.argmax(dim=1)\n",
    "            correct += (preds == labels).sum().item()\n",
    "            total += images.size(0)\n",
    "    return val_loss/total, correct/total\n"
   ]
  },
  {
   "cell_type": "code",
   "execution_count": null,
   "id": "503bc6dd",
   "metadata": {},
   "outputs": [
    {
     "name": "stdout",
     "output_type": "stream",
     "text": [
      "Epoch 1/30: Train loss 1.2385, acc 0.6042 | Val   loss 0.7443, acc 0.7889\n",
      "Epoch 2/30: Train loss 0.8084, acc 0.7391 | Val   loss 0.5687, acc 0.8313\n",
      "Epoch 3/30: Train loss 0.7129, acc 0.7585 | Val   loss 0.5218, acc 0.8253\n",
      "Epoch 4/30: Train loss 0.6464, acc 0.7812 | Val   loss 0.4665, acc 0.8465\n",
      "Epoch 5/30: Train loss 0.6276, acc 0.7817 | Val   loss 0.4285, acc 0.8586\n",
      "Epoch 6/30: Train loss 0.6010, acc 0.7877 | Val   loss 0.4396, acc 0.8485\n",
      "Epoch 7/30: Train loss 0.6053, acc 0.7884 | Val   loss 0.4380, acc 0.8434\n",
      "Epoch 8/30: Train loss 0.5847, acc 0.7940 | Val   loss 0.4111, acc 0.8475\n",
      "Epoch 9/30: Train loss 0.5684, acc 0.8018 | Val   loss 0.4061, acc 0.8495\n",
      "Epoch 10/30: Train loss 0.5552, acc 0.8046 | Val   loss 0.4007, acc 0.8515\n",
      "Epoch 11/30: Train loss 0.5586, acc 0.8044 | Val   loss 0.3749, acc 0.8717\n",
      "Epoch 12/30: Train loss 0.5412, acc 0.8085 | Val   loss 0.3674, acc 0.8707\n",
      "Epoch 13/30: Train loss 0.5429, acc 0.8141 | Val   loss 0.3811, acc 0.8646\n",
      "Epoch 14/30: Train loss 0.5566, acc 0.7998 | Val   loss 0.3817, acc 0.8576\n",
      "Epoch 15/30: Train loss 0.5583, acc 0.7998 | Val   loss 0.3612, acc 0.8737\n",
      "Epoch 16/30: Train loss 0.5424, acc 0.8031 | Val   loss 0.3713, acc 0.8626\n",
      "Epoch 17/30: Train loss 0.5594, acc 0.8026 | Val   loss 0.3542, acc 0.8747\n",
      "Epoch 18/30: Train loss 0.5459, acc 0.8083 | Val   loss 0.3378, acc 0.8727\n",
      "Epoch 19/30: Train loss 0.5196, acc 0.8132 | Val   loss 0.3456, acc 0.8798\n",
      "Epoch 20/30: Train loss 0.5503, acc 0.8011 | Val   loss 0.3358, acc 0.8778\n",
      "Epoch 21/30: Train loss 0.5132, acc 0.8076 | Val   loss 0.3702, acc 0.8737\n",
      "Epoch 22/30: Train loss 0.5133, acc 0.8178 | Val   loss 0.3409, acc 0.8768\n",
      "Epoch 23/30: Train loss 0.5246, acc 0.8139 | Val   loss 0.3454, acc 0.8747\n",
      "Epoch 24/30: Train loss 0.5244, acc 0.8104 | Val   loss 0.3327, acc 0.8828\n",
      "Epoch 25/30: Train loss 0.5249, acc 0.8180 | Val   loss 0.3414, acc 0.8727\n",
      "Epoch 26/30: Train loss 0.5232, acc 0.8093 | Val   loss 0.3382, acc 0.8859\n",
      "Epoch 27/30: Train loss 0.5302, acc 0.8089 | Val   loss 0.3363, acc 0.8818\n",
      "Epoch 28/30: Train loss 0.5268, acc 0.8093 | Val   loss 0.3387, acc 0.8758\n",
      "Epoch 29/30: Train loss 0.5355, acc 0.8037 | Val   loss 0.3272, acc 0.8758\n",
      "Epoch 30/30: Train loss 0.5329, acc 0.8109 | Val   loss 0.3186, acc 0.8899\n"
     ]
    }
   ],
   "source": [
    "num_epochs = 30\n",
    "best_val_loss = float('inf')\n",
    "\n",
    "for epoch in range(num_epochs):\n",
    "    train_loss, train_acc = train_one_epoch(model, train_loader, optimizer, criterion, device)\n",
    "    val_loss, val_acc     = validate(model, val_loader, criterion, device)\n",
    "\n",
    "    print(f\"Epoch {epoch+1}/{num_epochs}: \"\n",
    "          f\"Train loss {train_loss:.4f}, acc {train_acc:.4f} | \"\n",
    "          f\"Val   loss {val_loss:.4f}, acc {val_acc:.4f}\")\n",
    "\n",
    "    # Checkpoint best model\n",
    "    if val_loss < best_val_loss:\n",
    "        best_val_loss = val_loss\n",
    "        torch.save(model.state_dict(), \"best_mobilenetv3_teadiseases.pth\")\n"
   ]
  }
 ],
 "metadata": {
  "kernelspec": {
   "display_name": "Python 3",
   "language": "python",
   "name": "python3"
  },
  "language_info": {
   "codemirror_mode": {
    "name": "ipython",
    "version": 3
   },
   "file_extension": ".py",
   "mimetype": "text/x-python",
   "name": "python",
   "nbconvert_exporter": "python",
   "pygments_lexer": "ipython3",
   "version": "3.10.6"
  }
 },
 "nbformat": 4,
 "nbformat_minor": 5
}
