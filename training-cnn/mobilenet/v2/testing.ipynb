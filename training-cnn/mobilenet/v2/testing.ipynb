{
 "cells": [
  {
   "cell_type": "code",
   "execution_count": null,
   "id": "49bf8c6f",
   "metadata": {},
   "outputs": [],
   "source": [
    "from torchvision import datasets\n",
    "from torch.utils.data import DataLoader\n",
    "from torchvision import transforms\n",
    "from sklearn.metrics import confusion_matrix, classification_report\n",
    "import torchvision.models as models\n",
    "import torch.nn as nn\n",
    "import torch"
   ]
  },
  {
   "cell_type": "code",
   "execution_count": 5,
   "id": "19c5f2d7",
   "metadata": {},
   "outputs": [],
   "source": [
    "NORMALIZE_MEAN = [0.485, 0.456, 0.406]\n",
    "NORMALIZE_STD  = [0.229, 0.224, 0.225]\n",
    "\n",
    "IMAGE_SIZE = 224\n",
    "BATCH_SIZE = 16\n",
    "NUM_WORKERS = 2"
   ]
  },
  {
   "cell_type": "code",
   "execution_count": 8,
   "id": "11a1ddcb",
   "metadata": {},
   "outputs": [],
   "source": [
    "test_transforms = transforms.Compose([\n",
    "    transforms.Resize(int(IMAGE_SIZE * 1.14)),\n",
    "    transforms.CenterCrop(IMAGE_SIZE),\n",
    "    transforms.ToTensor(),                       \n",
    "    transforms.Normalize(NORMALIZE_MEAN, NORMALIZE_STD)              \n",
    "])\n",
    "\n",
    "\n",
    "dataset_path = '../../../dataset/test'\n",
    "test_dataset   = datasets.ImageFolder(\n",
    "    root=dataset_path, transform=test_transforms,\n",
    ")\n",
    "\n",
    "test_loader = DataLoader(\n",
    "    test_dataset,\n",
    "    shuffle=False,\n",
    "    pin_memory=True,\n",
    "    batch_size=BATCH_SIZE,\n",
    "    num_workers=NUM_WORKERS, \n",
    ")\n",
    "\n"
   ]
  },
  {
   "cell_type": "code",
   "execution_count": 9,
   "id": "85a4fa59",
   "metadata": {},
   "outputs": [],
   "source": [
    "def test_model(model, loader, criterion, device):\n",
    "    model.eval()\n",
    "    test_loss, correct, total = 0.0, 0, 0\n",
    "\n",
    "    with torch.no_grad():\n",
    "        for images, labels in loader:\n",
    "            images, labels = images.to(device), labels.to(device)\n",
    "            outputs = model(images)\n",
    "            loss = criterion(outputs, labels)\n",
    "            test_loss += loss.item() * images.size(0)\n",
    "\n",
    "            preds = outputs.argmax(dim=1)\n",
    "            correct += (preds == labels).sum().item()\n",
    "            total += labels.size(0)\n",
    "\n",
    "    avg_loss = test_loss / total\n",
    "    accuracy = correct / total\n",
    "    return avg_loss, accuracy"
   ]
  },
  {
   "cell_type": "code",
   "execution_count": 10,
   "id": "cd8f15dd",
   "metadata": {},
   "outputs": [
    {
     "name": "stdout",
     "output_type": "stream",
     "text": [
      "Test Loss: 0.3361, Test Accuracy: 0.8844\n"
     ]
    }
   ],
   "source": [
    "model = models.mobilenet_v2(weights=None)\n",
    "\n",
    "trained_model_path = 'best_mobilenetv2_teadiseases.pth'\n",
    "model.load_state_dict(torch.load(trained_model_path))\n",
    "\n",
    "device = torch.device(\"cuda\" if torch.cuda.is_available() else \"cpu\")\n",
    "model.to(device)\n",
    "\n",
    "criterion = nn.CrossEntropyLoss()\n",
    "\n",
    "test_loss, test_acc = test_model(model, test_loader, criterion, device)\n",
    "print(f\"Test Loss: {test_loss:.4f}, Test Accuracy: {test_acc:.4f}\")"
   ]
  },
  {
   "cell_type": "code",
   "execution_count": 11,
   "id": "a4cccfbb",
   "metadata": {},
   "outputs": [
    {
     "name": "stdout",
     "output_type": "stream",
     "text": [
      "Confusion Matrix:\n",
      " [[160   0   3   1   1   4   0   1   0]\n",
      " [  2 115  12   1   1   1   1   1   0]\n",
      " [  6  24 122   1   6   3   0   1   0]\n",
      " [  0   0   0 134  15   0   0   1   0]\n",
      " [  0   0   0   9 141   0   0   0   0]\n",
      " [  2   0   2   0   0  20   0   0   0]\n",
      " [  0   0   0   0   0   1  20   0   0]\n",
      " [  2   6   0   5   2   0   0 157   0]\n",
      " [  0   0   0   0   0   0   0   0  11]]\n",
      "\n",
      "Classification Report:\n",
      "                      precision    recall  f1-score   support\n",
      "\n",
      "         algal_spot       0.93      0.94      0.94       170\n",
      "       brown_blight       0.79      0.86      0.82       134\n",
      "        gray_blight       0.88      0.75      0.81       163\n",
      "            healthy       0.89      0.89      0.89       150\n",
      "         helopeltis       0.85      0.94      0.89       150\n",
      "           red-rust       0.69      0.83      0.75        24\n",
      "red-spider-infested       0.95      0.95      0.95        21\n",
      "           red_spot       0.98      0.91      0.94       172\n",
      "         white-spot       1.00      1.00      1.00        11\n",
      "\n",
      "           accuracy                           0.88       995\n",
      "          macro avg       0.88      0.90      0.89       995\n",
      "       weighted avg       0.89      0.88      0.88       995\n",
      "\n"
     ]
    }
   ],
   "source": [
    "all_preds = []\n",
    "all_labels = []\n",
    "\n",
    "model.eval()\n",
    "with torch.no_grad():\n",
    "    for images, labels in test_loader:\n",
    "        images = images.to(device)\n",
    "        outputs = model(images)\n",
    "        all_preds.extend(outputs.argmax(dim=1).cpu().numpy())\n",
    "        all_labels.extend(labels.numpy())\n",
    "\n",
    "# Confusion matrix\n",
    "cm = confusion_matrix(all_labels, all_preds)\n",
    "print(\"Confusion Matrix:\\n\", cm)\n",
    "print(\"\\nClassification Report:\\n\",\n",
    "      classification_report(all_labels, all_preds, target_names=test_dataset.classes))"
   ]
  }
 ],
 "metadata": {
  "kernelspec": {
   "display_name": ".venv (3.12.3)",
   "language": "python",
   "name": "python3"
  },
  "language_info": {
   "codemirror_mode": {
    "name": "ipython",
    "version": 3
   },
   "file_extension": ".py",
   "mimetype": "text/x-python",
   "name": "python",
   "nbconvert_exporter": "python",
   "pygments_lexer": "ipython3",
   "version": "3.12.3"
  }
 },
 "nbformat": 4,
 "nbformat_minor": 5
}
