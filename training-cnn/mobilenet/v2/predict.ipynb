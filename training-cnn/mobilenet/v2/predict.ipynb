{
 "cells": [
  {
   "cell_type": "code",
   "execution_count": 1,
   "id": "686dda4f",
   "metadata": {},
   "outputs": [],
   "source": [
    "import argparse\n",
    "import torch\n",
    "import torch.nn as nn\n",
    "from torchvision import transforms, models\n",
    "from PIL import Image\n",
    "import matplotlib.pyplot as plt"
   ]
  },
  {
   "cell_type": "code",
   "execution_count": 2,
   "id": "bcffad51",
   "metadata": {},
   "outputs": [],
   "source": [
    "IMAGE_SIZE  = 224\n",
    "CLASS_NAMES = [\n",
    "    'algal_spot',\n",
    "    'brown_blight',\n",
    "    'gray_blight',\n",
    "    'healthy',\n",
    "    'helopeltis',\n",
    "    'red-rust',\n",
    "    'red-spider-infested',\n",
    "    'red_spot',\n",
    "    'white-spot'\n",
    "]\n",
    "DEVICE = torch.device(\"cuda\" if torch.cuda.is_available() else \"cpu\")"
   ]
  },
  {
   "cell_type": "code",
   "execution_count": null,
   "id": "a29be0dc",
   "metadata": {},
   "outputs": [
    {
     "name": "stderr",
     "output_type": "stream",
     "text": [
      "usage: ipykernel_launcher.py [-h] --img IMG [--checkpoint CHECKPOINT]\n",
      "ipykernel_launcher.py: error: the following arguments are required: --img/-i\n"
     ]
    },
    {
     "ename": "SystemExit",
     "evalue": "2",
     "output_type": "error",
     "traceback": [
      "An exception has occurred, use %tb to see the full traceback.\n",
      "\u001b[31mSystemExit\u001b[39m\u001b[31m:\u001b[39m 2\n"
     ]
    }
   ],
   "source": [
    "parser = argparse.ArgumentParser(description=\"Predict tea leaf disease from an image\")\n",
    "parser.add_argument(\n",
    "    \"--img\", \"-i\",\n",
    "    required=True,\n",
    "    help=\"Path to the input tea‑leaf image\"\n",
    ")\n",
    "parser.add_argument(\n",
    "    \"--checkpoint\", \"-c\",\n",
    "    default=\"best_mobilenetv2_teadiseases.pth\",\n",
    "    help=\"Path to the trained model checkpoint\"\n",
    ")\n",
    "args = parser.parse_args()\n",
    "\n",
    "test_transform = transforms.Compose([\n",
    "    transforms.Resize(int(IMAGE_SIZE * 1.14)),\n",
    "    transforms.CenterCrop(IMAGE_SIZE),\n",
    "    transforms.ToTensor(),                      \n",
    "    transforms.Normalize(\n",
    "        mean=[0.485, 0.456, 0.406],\n",
    "        std=[0.229, 0.224, 0.225]\n",
    "    )\n",
    "])\n",
    "\n",
    "image = Image.open(args.img).convert(\"RGB\")\n",
    "input_tensor = test_transform(image).unsqueeze(0).to(DEVICE)\n",
    "\n",
    "model = models.mobilenet_v2(weights=None)\n",
    "model.classifier = nn.Sequential(\n",
    "    nn.Dropout(0.3),\n",
    "    nn.Linear(model.last_channel, len(CLASS_NAMES))\n",
    ")\n",
    "state = torch.load(args.checkpoint, map_location=DEVICE)\n",
    "model.load_state_dict(state)\n",
    "model.to(DEVICE)\n",
    "model.eval()\n",
    "\n",
    "with torch.no_grad():\n",
    "    outputs = model(input_tensor)\n",
    "    probs = torch.softmax(outputs, dim=1)\n",
    "    top5_probs, top5_indices = torch.topk(probs, k=5, dim=1)\n",
    "\n",
    "# predicted_label = CLASS_NAMES[pred_idx]\n",
    "# print(f\"Predicted: {predicted_label} ({confidence*100:.1f}%)\")\n",
    "\n",
    "print(\"Top-5 Predictions:\")\n",
    "for i in range(5):\n",
    "    class_idx = top5_indices[0][i].item()\n",
    "    class_prob = top5_probs[0][i].item()\n",
    "    print(f\"{i+1}. {CLASS_NAMES[class_idx]} ({class_prob*100:.2f}%)\")\n",
    "\n",
    "plt.imshow(image)\n",
    "plt.title(f\"Top Prediction: {CLASS_NAMES[top5_indices[0][0].item()]} ({top5_probs[0][0].item()*100:.2f}%)\")\n",
    "plt.axis('off')\n",
    "plt.show()"
   ]
  }
 ],
 "metadata": {
  "kernelspec": {
   "display_name": ".venv (3.12.3)",
   "language": "python",
   "name": "python3"
  },
  "language_info": {
   "codemirror_mode": {
    "name": "ipython",
    "version": 3
   },
   "file_extension": ".py",
   "mimetype": "text/x-python",
   "name": "python",
   "nbconvert_exporter": "python",
   "pygments_lexer": "ipython3",
   "version": "3.12.3"
  }
 },
 "nbformat": 4,
 "nbformat_minor": 5
}
