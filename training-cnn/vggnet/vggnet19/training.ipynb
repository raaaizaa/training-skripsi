{
 "cells": [
  {
   "cell_type": "code",
   "execution_count": 10,
   "id": "d983f2e3",
   "metadata": {},
   "outputs": [],
   "source": [
    "import torch\n",
    "import torch.nn as nn\n",
    "from torchvision import datasets, models, transforms\n",
    "import torch.optim as optim\n",
    "from torch.utils.data import DataLoader"
   ]
  },
  {
   "cell_type": "code",
   "execution_count": 11,
   "id": "0c9e137c",
   "metadata": {},
   "outputs": [],
   "source": [
    "IMAGE_SIZE = 224\n",
    "BATCH_SIZE = 16\n",
    "NUM_WORKERS = 2\n",
    "MEAN = [0.485, 0.456, 0.406]\n",
    "STD  = [0.229, 0.224, 0.225]\n",
    "NUM_EPOCHS = 30\n",
    "LEARNING_RATE = 1e-3"
   ]
  },
  {
   "cell_type": "code",
   "execution_count": 12,
   "id": "b84c74fe",
   "metadata": {},
   "outputs": [],
   "source": [
    "train_transform = transforms.Compose([\n",
    "    transforms.Resize(int(IMAGE_SIZE * 1.14)),\n",
    "    transforms.CenterCrop(IMAGE_SIZE),\n",
    "    transforms.ColorJitter(brightness=0.2, contrast=0.2),\n",
    "    transforms.RandomHorizontalFlip(),\n",
    "    transforms.RandomVerticalFlip(),\n",
    "    transforms.RandomRotation(15),\n",
    "    transforms.ToTensor(),\n",
    "    transforms.Normalize(mean=MEAN, std=STD)\n",
    "])\n",
    "\n",
    "val_transforms = transforms.Compose([\n",
    "    transforms.Resize(256),\n",
    "    transforms.CenterCrop(IMAGE_SIZE),       \n",
    "    transforms.ToTensor(),\n",
    "    transforms.Normalize(mean=MEAN, std=STD)\n",
    "])"
   ]
  },
  {
   "cell_type": "code",
   "execution_count": 13,
   "id": "9d682943",
   "metadata": {},
   "outputs": [],
   "source": [
    "train_dataset_path = '../../../dataset/train'\n",
    "val_dataset_path = '../../../dataset/val'\n",
    "\n",
    "train_dataset = datasets.ImageFolder(train_dataset_path, transform=train_transform)\n",
    "val_dataset = datasets.ImageFolder(val_dataset_path, transform=val_transforms)\n",
    "\n",
    "train_loader = DataLoader(train_dataset, batch_size=BATCH_SIZE, shuffle=False, num_workers=NUM_WORKERS, pin_memory=True)\n",
    "val_loader = DataLoader(val_dataset, batch_size=BATCH_SIZE, shuffle=False, num_workers=NUM_WORKERS, pin_memory=True)"
   ]
  },
  {
   "cell_type": "code",
   "execution_count": 14,
   "id": "31504fd3",
   "metadata": {},
   "outputs": [
    {
     "data": {
      "text/plain": [
       "Sequential(\n",
       "  (0): Conv2d(3, 64, kernel_size=(3, 3), stride=(1, 1), padding=(1, 1))\n",
       "  (1): ReLU(inplace=True)\n",
       "  (2): Conv2d(64, 64, kernel_size=(3, 3), stride=(1, 1), padding=(1, 1))\n",
       "  (3): ReLU(inplace=True)\n",
       "  (4): MaxPool2d(kernel_size=2, stride=2, padding=0, dilation=1, ceil_mode=False)\n",
       "  (5): Conv2d(64, 128, kernel_size=(3, 3), stride=(1, 1), padding=(1, 1))\n",
       "  (6): ReLU(inplace=True)\n",
       "  (7): Conv2d(128, 128, kernel_size=(3, 3), stride=(1, 1), padding=(1, 1))\n",
       "  (8): ReLU(inplace=True)\n",
       "  (9): MaxPool2d(kernel_size=2, stride=2, padding=0, dilation=1, ceil_mode=False)\n",
       "  (10): Conv2d(128, 256, kernel_size=(3, 3), stride=(1, 1), padding=(1, 1))\n",
       "  (11): ReLU(inplace=True)\n",
       "  (12): Conv2d(256, 256, kernel_size=(3, 3), stride=(1, 1), padding=(1, 1))\n",
       "  (13): ReLU(inplace=True)\n",
       "  (14): Conv2d(256, 256, kernel_size=(3, 3), stride=(1, 1), padding=(1, 1))\n",
       "  (15): ReLU(inplace=True)\n",
       "  (16): Conv2d(256, 256, kernel_size=(3, 3), stride=(1, 1), padding=(1, 1))\n",
       "  (17): ReLU(inplace=True)\n",
       "  (18): MaxPool2d(kernel_size=2, stride=2, padding=0, dilation=1, ceil_mode=False)\n",
       "  (19): Conv2d(256, 512, kernel_size=(3, 3), stride=(1, 1), padding=(1, 1))\n",
       "  (20): ReLU(inplace=True)\n",
       "  (21): Conv2d(512, 512, kernel_size=(3, 3), stride=(1, 1), padding=(1, 1))\n",
       "  (22): ReLU(inplace=True)\n",
       "  (23): Conv2d(512, 512, kernel_size=(3, 3), stride=(1, 1), padding=(1, 1))\n",
       "  (24): ReLU(inplace=True)\n",
       "  (25): Conv2d(512, 512, kernel_size=(3, 3), stride=(1, 1), padding=(1, 1))\n",
       "  (26): ReLU(inplace=True)\n",
       "  (27): MaxPool2d(kernel_size=2, stride=2, padding=0, dilation=1, ceil_mode=False)\n",
       "  (28): Conv2d(512, 512, kernel_size=(3, 3), stride=(1, 1), padding=(1, 1))\n",
       "  (29): ReLU(inplace=True)\n",
       "  (30): Conv2d(512, 512, kernel_size=(3, 3), stride=(1, 1), padding=(1, 1))\n",
       "  (31): ReLU(inplace=True)\n",
       "  (32): Conv2d(512, 512, kernel_size=(3, 3), stride=(1, 1), padding=(1, 1))\n",
       "  (33): ReLU(inplace=True)\n",
       "  (34): Conv2d(512, 512, kernel_size=(3, 3), stride=(1, 1), padding=(1, 1))\n",
       "  (35): ReLU(inplace=True)\n",
       "  (36): MaxPool2d(kernel_size=2, stride=2, padding=0, dilation=1, ceil_mode=False)\n",
       ")"
      ]
     },
     "execution_count": 14,
     "metadata": {},
     "output_type": "execute_result"
    }
   ],
   "source": [
    "model = models.vgg19(weights=models.VGG19_Weights.IMAGENET1K_V1)\n",
    "features = model.features\n",
    "features.requires_grad_(False)"
   ]
  },
  {
   "cell_type": "code",
   "execution_count": 15,
   "id": "a8e0e6e4",
   "metadata": {},
   "outputs": [],
   "source": [
    "num_classes = len(train_dataset.classes)\n",
    "model.classifier[6] = nn.Linear(4096, num_classes)\n",
    "\n",
    "device = torch.device('cuda' if torch.cuda.is_available() else 'cpu')\n",
    "model = model.to(device)"
   ]
  },
  {
   "cell_type": "code",
   "execution_count": 16,
   "id": "049341e5",
   "metadata": {},
   "outputs": [],
   "source": [
    "criterion = nn.CrossEntropyLoss()\n",
    "optimizer = optim.Adam(model.classifier.parameters(), lr=LEARNING_RATE)\n",
    "scheduler = torch.optim.lr_scheduler.ReduceLROnPlateau(optimizer, mode='min', factor=0.1, patience=3)"
   ]
  },
  {
   "cell_type": "code",
   "execution_count": 17,
   "id": "38dfee57",
   "metadata": {},
   "outputs": [],
   "source": [
    "def train_one_epoch(model, device, loader, criterion, optimizer):\n",
    "    model.train()\n",
    "    running_loss, correct, total = 0.0, 0, 0\n",
    "    \n",
    "    for images, labels in loader:\n",
    "        images = images.to(device)\n",
    "        labels = labels.to(device)\n",
    "        outputs = model(images)\n",
    "        \n",
    "        loss = criterion(outputs, labels)\n",
    "        loss.backwards()\n",
    "        optimizer.step()\n",
    "        \n",
    "        running_loss += loss.item() * images.size(0)\n",
    "        preds = outputs.argmax(dim=1)\n",
    "        correct += (preds == labels).sum().item()\n",
    "        total += images.size(0)\n",
    "    return running_loss/total, correct/total"
   ]
  },
  {
   "cell_type": "code",
   "execution_count": 18,
   "id": "4965db1c",
   "metadata": {},
   "outputs": [],
   "source": [
    "def validate(model, device, loader, criterion):\n",
    "    model.eval()\n",
    "    val_loss, correct, total = 0.0, 0, 0\n",
    "    \n",
    "    for images, labels in loader:\n",
    "        images = images.to(device)\n",
    "        labels = labels.to(device)\n",
    "        outputs = model(images)\n",
    "        \n",
    "        loss = criterion(outputs, labels)\n",
    "        val_loss += loss.item() * images.size(0)\n",
    "        preds = outputs.argmax(dim=1)\n",
    "        correct += (preds == labels).sum().item()\n",
    "        total += images.size(0)\n",
    "    return val_loss/total, correct/total"
   ]
  },
  {
   "cell_type": "code",
   "execution_count": 19,
   "id": "451928de",
   "metadata": {},
   "outputs": [
    {
     "name": "stdout",
     "output_type": "stream",
     "text": [
      "Total batches: 290\n",
      "Epoch 1/30: Train loss 1.6266, acc 0.5158 | Val   loss 1.0063, acc 0.6737\n",
      "Epoch 2/30: Train loss 1.5355, acc 0.6280 | Val   loss 0.7228, acc 0.7444\n",
      "Epoch 3/30: Train loss 1.2184, acc 0.6848 | Val   loss 0.5452, acc 0.8202\n",
      "Epoch 4/30: Train loss 1.1658, acc 0.6993 | Val   loss 0.6305, acc 0.7980\n",
      "Epoch 5/30: Train loss 0.9405, acc 0.7410 | Val   loss 0.5267, acc 0.8343\n",
      "Epoch 6/30: Train loss 0.9961, acc 0.7436 | Val   loss 0.5511, acc 0.8394\n",
      "Epoch 7/30: Train loss 1.0090, acc 0.7374 | Val   loss 0.5888, acc 0.8253\n",
      "Epoch 8/30: Train loss 0.9366, acc 0.7570 | Val   loss 0.6123, acc 0.8283\n",
      "Epoch 9/30: Train loss 0.9219, acc 0.7575 | Val   loss 0.5533, acc 0.8364\n",
      "Epoch 10/30: Train loss 0.8685, acc 0.7722 | Val   loss 0.4980, acc 0.8677\n",
      "Epoch 11/30: Train loss 0.8231, acc 0.7730 | Val   loss 0.5362, acc 0.8535\n",
      "Epoch 12/30: Train loss 0.8917, acc 0.7646 | Val   loss 0.4741, acc 0.8586\n",
      "Epoch 13/30: Train loss 0.8045, acc 0.7823 | Val   loss 0.5381, acc 0.8606\n",
      "Epoch 14/30: Train loss 0.7969, acc 0.7823 | Val   loss 0.5659, acc 0.8273\n",
      "Epoch 15/30: Train loss 0.7859, acc 0.7879 | Val   loss 0.5872, acc 0.8384\n",
      "Epoch 16/30: Train loss 0.7112, acc 0.8024 | Val   loss 0.4051, acc 0.8889\n",
      "Epoch 17/30: Train loss 0.7868, acc 0.7920 | Val   loss 0.4876, acc 0.8707\n",
      "Epoch 18/30: Train loss 0.7612, acc 0.7944 | Val   loss 0.4322, acc 0.8697\n",
      "Epoch 19/30: Train loss 0.7055, acc 0.7994 | Val   loss 0.4565, acc 0.8586\n",
      "Epoch 20/30: Train loss 0.7550, acc 0.7897 | Val   loss 0.5311, acc 0.8545\n",
      "Epoch 21/30: Train loss 0.7746, acc 0.7983 | Val   loss 0.4133, acc 0.8939\n",
      "Epoch 22/30: Train loss 0.7071, acc 0.8104 | Val   loss 0.4444, acc 0.8616\n",
      "Epoch 23/30: Train loss 0.7328, acc 0.8078 | Val   loss 0.4416, acc 0.8838\n",
      "Epoch 24/30: Train loss 0.7311, acc 0.8067 | Val   loss 0.3890, acc 0.8808\n",
      "Epoch 25/30: Train loss 0.6703, acc 0.8253 | Val   loss 0.3965, acc 0.8869\n",
      "Epoch 26/30: Train loss 0.7082, acc 0.8087 | Val   loss 0.4304, acc 0.8707\n",
      "Epoch 27/30: Train loss 0.7286, acc 0.8106 | Val   loss 0.4929, acc 0.8374\n",
      "Epoch 28/30: Train loss 0.7129, acc 0.8124 | Val   loss 0.4425, acc 0.8576\n",
      "Epoch 29/30: Train loss 0.6752, acc 0.8325 | Val   loss 0.4340, acc 0.8636\n",
      "Epoch 30/30: Train loss 0.6195, acc 0.8290 | Val   loss 0.5221, acc 0.8960\n"
     ]
    }
   ],
   "source": [
    "best_val_loss = float('inf')\n",
    "\n",
    "for epoch in range(NUM_EPOCHS):\n",
    "    train_loss, train_acc = train_one_epoch(model, device, train_loader, criterion, optimizer)\n",
    "    val_loss, val_acc = validate(model, device, val_loader, criterion)\n",
    "    \n",
    "    print(f\"Epoch {epoch+1}/{NUM_EPOCHS}: \"\n",
    "          f\"Train loss {train_loss:.4f}, acc {train_acc:.4f} | \"\n",
    "          f\"Val loss {val_loss:.4f}, acc {train_acc:.4f}\"\n",
    "          )\n",
    "    \n",
    "    if(val_loss < best_val_loss):\n",
    "        best_val_loss = val_loss\n",
    "        torch.save(model.state_dict(), 'best_vgg19.pth')"
   ]
  }
 ],
 "metadata": {
  "kernelspec": {
   "display_name": "Python 3",
   "language": "python",
   "name": "python3"
  },
  "language_info": {
   "codemirror_mode": {
    "name": "ipython",
    "version": 3
   },
   "file_extension": ".py",
   "mimetype": "text/x-python",
   "name": "python",
   "nbconvert_exporter": "python",
   "pygments_lexer": "ipython3",
   "version": "3.10.6"
  }
 },
 "nbformat": 4,
 "nbformat_minor": 5
}
