{
 "cells": [
  {
   "cell_type": "code",
   "execution_count": 1,
   "id": "8120f724",
   "metadata": {},
   "outputs": [],
   "source": [
    "import torch\n",
    "import torch.nn as nn\n",
    "from torchvision import models, transforms, datasets\n",
    "from torch.utils.data import DataLoader\n",
    "import torch.optim as optim"
   ]
  },
  {
   "cell_type": "code",
   "execution_count": 2,
   "id": "7416ad3b",
   "metadata": {},
   "outputs": [],
   "source": [
    "IMAGE_SIZE = 224\n",
    "BATCH_SIZE = 16\n",
    "NUM_WORKERS = 2\n",
    "MEAN = [0.485, 0.456, 0.406]\n",
    "STD  = [0.229, 0.224, 0.225]\n",
    "NUM_EPOCHS = 30\n",
    "LEARNING_RATE = 1e-3"
   ]
  },
  {
   "cell_type": "code",
   "execution_count": 3,
   "id": "6b7ef139",
   "metadata": {},
   "outputs": [],
   "source": [
    "train_transforms = transforms.Compose([\n",
    "    transforms.Resize(int(IMAGE_SIZE * 1.14)),\n",
    "    transforms.CenterCrop(IMAGE_SIZE),\n",
    "    transforms.ColorJitter(brightness=0.2, contrast=0.2),\n",
    "    transforms.RandomVerticalFlip(),\n",
    "    transforms.RandomHorizontalFlip(),\n",
    "    transforms.RandomRotation(15),\n",
    "    transforms.ToTensor(),\n",
    "    transforms.Normalize(mean=MEAN, std=STD)\n",
    "])\n",
    "\n",
    "val_transforms = transforms.Compose([\n",
    "    transforms.Resize(256),\n",
    "    transforms.CenterCrop(IMAGE_SIZE),\n",
    "    transforms.ToTensor(),\n",
    "    transforms.Normalize(mean=MEAN, std=STD)\n",
    "])"
   ]
  },
  {
   "cell_type": "code",
   "execution_count": 4,
   "id": "3c0ede24",
   "metadata": {},
   "outputs": [],
   "source": [
    "train_dataset_path = '../../../dataset/train'\n",
    "val_dataset_path = '../../../dataset/val'\n",
    "\n",
    "train_dataset = datasets.ImageFolder(train_dataset_path, transform=train_transforms)\n",
    "val_dataset = datasets.ImageFolder(val_dataset_path, transform=val_transforms)\n",
    "\n",
    "train_loader = DataLoader(train_dataset, batch_size=BATCH_SIZE, shuffle=False, num_workers=NUM_WORKERS, pin_memory=True)\n",
    "val_loader = DataLoader(val_dataset, batch_size=BATCH_SIZE, shuffle=False, num_workers=NUM_WORKERS, pin_memory=True)"
   ]
  },
  {
   "cell_type": "code",
   "execution_count": 5,
   "id": "fc02305b",
   "metadata": {},
   "outputs": [
    {
     "name": "stderr",
     "output_type": "stream",
     "text": [
      "Downloading: \"https://download.pytorch.org/models/vgg16_features-amdegroot-88682ab5.pth\" to C:\\Users\\Raiza Rahman/.cache\\torch\\hub\\checkpoints\\vgg16_features-amdegroot-88682ab5.pth\n",
      "100%|██████████| 528M/528M [01:17<00:00, 7.16MB/s] \n"
     ]
    },
    {
     "data": {
      "text/plain": [
       "Sequential(\n",
       "  (0): Conv2d(3, 64, kernel_size=(3, 3), stride=(1, 1), padding=(1, 1))\n",
       "  (1): ReLU(inplace=True)\n",
       "  (2): Conv2d(64, 64, kernel_size=(3, 3), stride=(1, 1), padding=(1, 1))\n",
       "  (3): ReLU(inplace=True)\n",
       "  (4): MaxPool2d(kernel_size=2, stride=2, padding=0, dilation=1, ceil_mode=False)\n",
       "  (5): Conv2d(64, 128, kernel_size=(3, 3), stride=(1, 1), padding=(1, 1))\n",
       "  (6): ReLU(inplace=True)\n",
       "  (7): Conv2d(128, 128, kernel_size=(3, 3), stride=(1, 1), padding=(1, 1))\n",
       "  (8): ReLU(inplace=True)\n",
       "  (9): MaxPool2d(kernel_size=2, stride=2, padding=0, dilation=1, ceil_mode=False)\n",
       "  (10): Conv2d(128, 256, kernel_size=(3, 3), stride=(1, 1), padding=(1, 1))\n",
       "  (11): ReLU(inplace=True)\n",
       "  (12): Conv2d(256, 256, kernel_size=(3, 3), stride=(1, 1), padding=(1, 1))\n",
       "  (13): ReLU(inplace=True)\n",
       "  (14): Conv2d(256, 256, kernel_size=(3, 3), stride=(1, 1), padding=(1, 1))\n",
       "  (15): ReLU(inplace=True)\n",
       "  (16): MaxPool2d(kernel_size=2, stride=2, padding=0, dilation=1, ceil_mode=False)\n",
       "  (17): Conv2d(256, 512, kernel_size=(3, 3), stride=(1, 1), padding=(1, 1))\n",
       "  (18): ReLU(inplace=True)\n",
       "  (19): Conv2d(512, 512, kernel_size=(3, 3), stride=(1, 1), padding=(1, 1))\n",
       "  (20): ReLU(inplace=True)\n",
       "  (21): Conv2d(512, 512, kernel_size=(3, 3), stride=(1, 1), padding=(1, 1))\n",
       "  (22): ReLU(inplace=True)\n",
       "  (23): MaxPool2d(kernel_size=2, stride=2, padding=0, dilation=1, ceil_mode=False)\n",
       "  (24): Conv2d(512, 512, kernel_size=(3, 3), stride=(1, 1), padding=(1, 1))\n",
       "  (25): ReLU(inplace=True)\n",
       "  (26): Conv2d(512, 512, kernel_size=(3, 3), stride=(1, 1), padding=(1, 1))\n",
       "  (27): ReLU(inplace=True)\n",
       "  (28): Conv2d(512, 512, kernel_size=(3, 3), stride=(1, 1), padding=(1, 1))\n",
       "  (29): ReLU(inplace=True)\n",
       "  (30): MaxPool2d(kernel_size=2, stride=2, padding=0, dilation=1, ceil_mode=False)\n",
       ")"
      ]
     },
     "execution_count": 5,
     "metadata": {},
     "output_type": "execute_result"
    }
   ],
   "source": [
    "model = models.vgg16(weights=models.VGG16_Weights.IMAGENET1K_FEATURES)\n",
    "features = model.features\n",
    "features.requires_grad_(False)"
   ]
  },
  {
   "cell_type": "code",
   "execution_count": 6,
   "id": "b987a9b5",
   "metadata": {},
   "outputs": [],
   "source": [
    "num_classes = len(train_dataset.classes)\n",
    "model.classifier[6] = nn.Linear(4096, num_classes)\n",
    "\n",
    "device = torch.device(\"cuda\" if torch.cuda.is_available() else 'cpu')\n",
    "model = model.to(device)"
   ]
  },
  {
   "cell_type": "code",
   "execution_count": null,
   "id": "e5446e5a",
   "metadata": {},
   "outputs": [],
   "source": [
    "criterion = nn.CrossEntropyLoss()\n",
    "optimizer = optim.Adam(model.classifier.parameters(), lr=LEARNING_RATE)"
   ]
  },
  {
   "cell_type": "code",
   "execution_count": 8,
   "id": "d986b68f",
   "metadata": {},
   "outputs": [],
   "source": [
    "def train_one_epoch(model, device, loader, criterion, optimizer):\n",
    "    model.train()\n",
    "    running_loss, correct, total = 0.0, 0, 0\n",
    "    \n",
    "    for images, labels in loader:\n",
    "        images = images.to(device)\n",
    "        labels = labels.to(device)\n",
    "        outputs = model(images)\n",
    "        loss = criterion(outputs, labels)\n",
    "        loss.backward()\n",
    "        optimizer.step()\n",
    "        \n",
    "        running_loss += loss.item() * images.size(0)\n",
    "        preds = outputs.argmax(dim=1)\n",
    "        correct += (preds == labels).sum().item()\n",
    "        total += images.size(0)\n",
    "    return running_loss/total, correct/total"
   ]
  },
  {
   "cell_type": "code",
   "execution_count": 9,
   "id": "6c9634a0",
   "metadata": {},
   "outputs": [],
   "source": [
    "def validate(model, device, loader, criterion):\n",
    "    model.eval()\n",
    "    val_loss, correct, total = 0.0, 0, 0\n",
    "    \n",
    "    with torch.no_grad():\n",
    "        for images, labels in loader:\n",
    "            images = images.to(device)\n",
    "            labels = labels.to(device)\n",
    "            outputs = model(images)\n",
    "            \n",
    "            loss = criterion(outputs, labels)\n",
    "            val_loss += loss.item() * images.size(0)\n",
    "            preds = outputs.argmax(dim=1)\n",
    "            correct += (preds == labels).sum().item()\n",
    "            total += images.size(0)\n",
    "    return val_loss/total, correct/total"
   ]
  },
  {
   "cell_type": "code",
   "execution_count": 10,
   "id": "03655b20",
   "metadata": {},
   "outputs": [
    {
     "name": "stdout",
     "output_type": "stream",
     "text": [
      "Total batches: 290\n",
      "Epoch 1/30: Train loss 1.7899, acc 0.4658 | Val   loss 1.1541, acc 0.6313\n",
      "Epoch 2/30: Train loss 1.3641, acc 0.6366 | Val   loss 0.9238, acc 0.7121\n",
      "Epoch 3/30: Train loss 1.1870, acc 0.6807 | Val   loss 0.6490, acc 0.7909\n",
      "Epoch 4/30: Train loss 1.1241, acc 0.7105 | Val   loss 0.6187, acc 0.8061\n",
      "Epoch 5/30: Train loss 1.0491, acc 0.7134 | Val   loss 0.5781, acc 0.8192\n",
      "Epoch 6/30: Train loss 0.9714, acc 0.7391 | Val   loss 0.5577, acc 0.8384\n",
      "Epoch 7/30: Train loss 0.9754, acc 0.7466 | Val   loss 0.5390, acc 0.8515\n",
      "Epoch 8/30: Train loss 0.9675, acc 0.7402 | Val   loss 0.6355, acc 0.8172\n",
      "Epoch 9/30: Train loss 0.8921, acc 0.7564 | Val   loss 0.6518, acc 0.8131\n",
      "Epoch 10/30: Train loss 0.8737, acc 0.7672 | Val   loss 0.5450, acc 0.8545\n",
      "Epoch 11/30: Train loss 0.9088, acc 0.7551 | Val   loss 0.5490, acc 0.8495\n",
      "Epoch 12/30: Train loss 0.7599, acc 0.7890 | Val   loss 0.5822, acc 0.8354\n",
      "Epoch 13/30: Train loss 0.7994, acc 0.7901 | Val   loss 0.4655, acc 0.8707\n",
      "Epoch 14/30: Train loss 0.8067, acc 0.7741 | Val   loss 0.5176, acc 0.8576\n",
      "Epoch 15/30: Train loss 0.7626, acc 0.7996 | Val   loss 0.4336, acc 0.8687\n",
      "Epoch 16/30: Train loss 0.7722, acc 0.7974 | Val   loss 0.4139, acc 0.8697\n",
      "Epoch 17/30: Train loss 0.7455, acc 0.8016 | Val   loss 0.4461, acc 0.8778\n",
      "Epoch 18/30: Train loss 0.7065, acc 0.8087 | Val   loss 0.3941, acc 0.8848\n",
      "Epoch 19/30: Train loss 0.7439, acc 0.7879 | Val   loss 0.4691, acc 0.8747\n",
      "Epoch 20/30: Train loss 0.7643, acc 0.8018 | Val   loss 0.5497, acc 0.8818\n",
      "Epoch 21/30: Train loss 0.7996, acc 0.8000 | Val   loss 0.4203, acc 0.8828\n",
      "Epoch 22/30: Train loss 0.7822, acc 0.7985 | Val   loss 0.4484, acc 0.8778\n",
      "Epoch 23/30: Train loss 0.6455, acc 0.8165 | Val   loss 0.3757, acc 0.8798\n",
      "Epoch 24/30: Train loss 0.7109, acc 0.8132 | Val   loss 0.3812, acc 0.8869\n",
      "Epoch 25/30: Train loss 0.6872, acc 0.8158 | Val   loss 0.4428, acc 0.8838\n",
      "Epoch 26/30: Train loss 0.6643, acc 0.8137 | Val   loss 0.4709, acc 0.8586\n",
      "Epoch 27/30: Train loss 0.6183, acc 0.8307 | Val   loss 0.4509, acc 0.8636\n",
      "Epoch 28/30: Train loss 0.6627, acc 0.8232 | Val   loss 0.4081, acc 0.8869\n",
      "Epoch 29/30: Train loss 0.7195, acc 0.8236 | Val   loss 0.3702, acc 0.8909\n",
      "Epoch 30/30: Train loss 0.6025, acc 0.8441 | Val   loss 0.3782, acc 0.8828\n"
     ]
    }
   ],
   "source": [
    "best_val_loss = float('inf')\n",
    "\n",
    "for epoch in range(NUM_EPOCHS):\n",
    "    train_loss, train_acc = train_one_epoch(model, device, train_loader, criterion, optimizer)\n",
    "    val_loss, val_acc = validate(model, device, val_loader, criterion)\n",
    "    \n",
    "    print(f\"Epoch {epoch+1}/{NUM_EPOCHS}: \"\n",
    "          f\"Train loss {train_loss:.4f}, acc {train_acc:.4f} | \"\n",
    "          f\"Val loss {val_loss:.4f}, acc {train_acc:.4f}\"\n",
    "          )\n",
    "    \n",
    "    if(val_loss < best_val_loss):\n",
    "        best_val_loss = val_loss\n",
    "        torch.save(model.state_dict(), 'best_vgg16.pth')"
   ]
  }
 ],
 "metadata": {
  "kernelspec": {
   "display_name": "Python 3",
   "language": "python",
   "name": "python3"
  },
  "language_info": {
   "codemirror_mode": {
    "name": "ipython",
    "version": 3
   },
   "file_extension": ".py",
   "mimetype": "text/x-python",
   "name": "python",
   "nbconvert_exporter": "python",
   "pygments_lexer": "ipython3",
   "version": "3.10.6"
  }
 },
 "nbformat": 4,
 "nbformat_minor": 5
}
