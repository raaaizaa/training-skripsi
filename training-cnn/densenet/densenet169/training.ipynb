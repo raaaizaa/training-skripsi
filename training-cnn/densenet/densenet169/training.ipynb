{
 "cells": [
  {
   "cell_type": "code",
   "execution_count": 1,
   "id": "aeb19490",
   "metadata": {},
   "outputs": [],
   "source": [
    "import torch\n",
    "import torch.nn as nn\n",
    "import torchvision.models as models\n",
    "from torchvision import datasets, transforms\n",
    "from torch.utils.data import DataLoader"
   ]
  },
  {
   "cell_type": "code",
   "execution_count": 2,
   "id": "1bbedc70",
   "metadata": {},
   "outputs": [],
   "source": [
    "IMAGE_SIZE = 224\n",
    "BATCH_SIZE = 16\n",
    "NUM_WORKERS = 2\n",
    "MEAN = [0.485, 0.456, 0.406]\n",
    "STD  = [0.229, 0.224, 0.225]\n",
    "LEARNING_RATE = 1e-3\n",
    "NUM_EPOCHS = 30"
   ]
  },
  {
   "cell_type": "code",
   "execution_count": 3,
   "id": "c8fafb13",
   "metadata": {},
   "outputs": [],
   "source": [
    "train_transforms = transforms.Compose([\n",
    "    transforms.RandomResizedCrop(IMAGE_SIZE, scale=(0.8, 1.0)),\n",
    "    transforms.RandomHorizontalFlip(),\n",
    "    transforms.RandomVerticalFlip(),\n",
    "    transforms.RandomRotation(15),\n",
    "    transforms.ColorJitter(brightness=0.2, contrast=0.2),\n",
    "    transforms.ToTensor(),\n",
    "    transforms.Normalize(MEAN, STD)\n",
    "])\n",
    "\n",
    "val_transforms = transforms.Compose([\n",
    "    transforms.CenterCrop(IMAGE_SIZE),\n",
    "    transforms.Resize(256),\n",
    "    transforms.ToTensor(),\n",
    "    transforms.Normalize(MEAN, STD)\n",
    "])"
   ]
  },
  {
   "cell_type": "code",
   "execution_count": 4,
   "id": "eb42b9e7",
   "metadata": {},
   "outputs": [
    {
     "name": "stdout",
     "output_type": "stream",
     "text": [
      "Classes detected: ['algal_spot', 'brown_blight', 'gray_blight', 'healthy', 'helopeltis', 'red-rust', 'red-spider-infested', 'red_spot', 'white-spot']\n"
     ]
    }
   ],
   "source": [
    "train_dataset_path = '../../../dataset/Train'\n",
    "val_dataset_path = '../../../dataset/val'\n",
    "\n",
    "train_dataset = datasets.ImageFolder(train_dataset_path, transform=train_transforms)\n",
    "val_dataset = datasets.ImageFolder(val_dataset_path, transform=val_transforms)\n",
    "\n",
    "train_loader = DataLoader(train_dataset, batch_size=BATCH_SIZE, shuffle=False, num_workers=NUM_WORKERS, pin_memory=True)\n",
    "val_loader = DataLoader(val_dataset, batch_size=BATCH_SIZE, shuffle=False, num_workers=NUM_WORKERS, pin_memory=True)\n",
    "\n",
    "print(f\"Classes detected: {train_dataset.classes}\")"
   ]
  },
  {
   "cell_type": "code",
   "execution_count": 5,
   "id": "3f1dddbc",
   "metadata": {},
   "outputs": [],
   "source": [
    "model = models.densenet169(weights=models.DenseNet169_Weights.IMAGENET1K_V1)\n",
    "\n",
    "device = torch.device(\"cuda\" if torch.cuda.is_available() else \"cpu\")\n",
    "model = model.to(device)"
   ]
  },
  {
   "cell_type": "code",
   "execution_count": 6,
   "id": "bf189cf4",
   "metadata": {},
   "outputs": [],
   "source": [
    "criterion = nn.CrossEntropyLoss()\n",
    "optimizer = torch.optim.Adam(model.parameters(), lr=LEARNING_RATE)"
   ]
  },
  {
   "cell_type": "code",
   "execution_count": 7,
   "id": "25c26ed3",
   "metadata": {},
   "outputs": [],
   "source": [
    "def train_one_epoch(model, loader, criterion, optimizer, device):\n",
    "    model.train()\n",
    "    running_loss, correct, total = 0.0, 0, 0\n",
    "\n",
    "    for images, labels, in loader:\n",
    "        images, labels = images.to(device), labels.to(device)\n",
    "        optimizer.zero_grad()\n",
    "        outputs = model(images)\n",
    "        loss = criterion(outputs, labels)\n",
    "        loss.backward()\n",
    "        optimizer.step()\n",
    "        \n",
    "        running_loss += loss.item() * images.size(0)\n",
    "        preds = outputs.argmax(dim=1)\n",
    "        correct += (preds == labels).sum().item()\n",
    "        total += images.size(0)\n",
    "    return running_loss/total, correct/total"
   ]
  },
  {
   "cell_type": "code",
   "execution_count": 8,
   "id": "e535249e",
   "metadata": {},
   "outputs": [],
   "source": [
    "def validate(model, loader, device, criterion):\n",
    "    model.eval()\n",
    "    val_loss, correct, total = 0.0, 0, 0\n",
    "    \n",
    "    with torch.no_grad():\n",
    "        for images, labels in loader:\n",
    "            images, labels = images.to(device), labels.to(device)\n",
    "            outputs = model(images)\n",
    "            loss = criterion(outputs, labels)\n",
    "            \n",
    "            val_loss += loss.item() * images.size(0)\n",
    "            preds = outputs.argmax(dim=1)\n",
    "            correct += (preds == labels).sum().item()\n",
    "            total += images.size(0)\n",
    "    return val_loss/total, correct/total"
   ]
  },
  {
   "cell_type": "code",
   "execution_count": 9,
   "id": "76924791",
   "metadata": {},
   "outputs": [
    {
     "name": "stdout",
     "output_type": "stream",
     "text": [
      "Total batches: 290\n",
      "Epoch 1/30: Train loss 1.0298, acc 0.6626 | Val   loss 0.5441, acc 0.8444\n",
      "Epoch 2/30: Train loss 0.6166, acc 0.7912 | Val   loss 0.4156, acc 0.8727\n",
      "Epoch 3/30: Train loss 0.5384, acc 0.8173 | Val   loss 0.3794, acc 0.8768\n",
      "Epoch 4/30: Train loss 0.5196, acc 0.8150 | Val   loss 0.3574, acc 0.8798\n",
      "Epoch 5/30: Train loss 0.4929, acc 0.8262 | Val   loss 0.3035, acc 0.8949\n",
      "Epoch 6/30: Train loss 0.4733, acc 0.8325 | Val   loss 0.2977, acc 0.8980\n",
      "Epoch 7/30: Train loss 0.4800, acc 0.8271 | Val   loss 0.2870, acc 0.9081\n",
      "Epoch 8/30: Train loss 0.4675, acc 0.8411 | Val   loss 0.2796, acc 0.9040\n",
      "Epoch 9/30: Train loss 0.4512, acc 0.8413 | Val   loss 0.2634, acc 0.9061\n",
      "Epoch 10/30: Train loss 0.4617, acc 0.8331 | Val   loss 0.2728, acc 0.9051\n",
      "Epoch 11/30: Train loss 0.4520, acc 0.8398 | Val   loss 0.2730, acc 0.9091\n",
      "Epoch 12/30: Train loss 0.4438, acc 0.8470 | Val   loss 0.2556, acc 0.9071\n",
      "Epoch 13/30: Train loss 0.4522, acc 0.8420 | Val   loss 0.2813, acc 0.8970\n",
      "Epoch 14/30: Train loss 0.4549, acc 0.8364 | Val   loss 0.2789, acc 0.9020\n",
      "Epoch 15/30: Train loss 0.4728, acc 0.8355 | Val   loss 0.2629, acc 0.9061\n",
      "Epoch 16/30: Train loss 0.4638, acc 0.8357 | Val   loss 0.2446, acc 0.9192\n",
      "Epoch 17/30: Train loss 0.4672, acc 0.8355 | Val   loss 0.3108, acc 0.8899\n",
      "Epoch 18/30: Train loss 0.4379, acc 0.8450 | Val   loss 0.2269, acc 0.9162\n",
      "Epoch 19/30: Train loss 0.4802, acc 0.8310 | Val   loss 0.2432, acc 0.9121\n",
      "Epoch 20/30: Train loss 0.4450, acc 0.8420 | Val   loss 0.2354, acc 0.9222\n",
      "Epoch 21/30: Train loss 0.4483, acc 0.8424 | Val   loss 0.2623, acc 0.8960\n",
      "Epoch 22/30: Train loss 0.4477, acc 0.8439 | Val   loss 0.2570, acc 0.9111\n",
      "Epoch 23/30: Train loss 0.4283, acc 0.8476 | Val   loss 0.2971, acc 0.8980\n",
      "Epoch 24/30: Train loss 0.4823, acc 0.8348 | Val   loss 0.2676, acc 0.9040\n",
      "Epoch 25/30: Train loss 0.4602, acc 0.8370 | Val   loss 0.3084, acc 0.8828\n",
      "Epoch 26/30: Train loss 0.4397, acc 0.8413 | Val   loss 0.2383, acc 0.9182\n",
      "Epoch 27/30: Train loss 0.4304, acc 0.8409 | Val   loss 0.2562, acc 0.9111\n",
      "Epoch 28/30: Train loss 0.4308, acc 0.8472 | Val   loss 0.2532, acc 0.9131\n",
      "Epoch 29/30: Train loss 0.4764, acc 0.8325 | Val   loss 0.2343, acc 0.9121\n",
      "Epoch 30/30: Train loss 0.4263, acc 0.8511 | Val   loss 0.2292, acc 0.9192\n"
     ]
    }
   ],
   "source": [
    "best_val_loss = float('inf')\n",
    "\n",
    "for epoch in range(NUM_EPOCHS):\n",
    "    train_loss, train_acc = train_one_epoch(model, train_loader, criterion, optimizer, device)\n",
    "    val_loss, val_acc = validate(model, val_loader, device, criterion)\n",
    "    \n",
    "    print(f\"Epoch {epoch+1}/{NUM_EPOCHS}: \"\n",
    "          f\"Train loss {train_loss:.4f}, acc {train_acc:.4f} | \"\n",
    "          f\"Val loss {val_loss:.4f}, acc {train_acc:.4f}\"\n",
    "          )\n",
    "    \n",
    "    if(val_loss < best_val_loss):\n",
    "        best_val_loss = val_loss\n",
    "        torch.save(model.state_dict(), \"best_densenet169.pth\")"
   ]
  }
 ],
 "metadata": {
  "kernelspec": {
   "display_name": "Python 3",
   "language": "python",
   "name": "python3"
  },
  "language_info": {
   "codemirror_mode": {
    "name": "ipython",
    "version": 3
   },
   "file_extension": ".py",
   "mimetype": "text/x-python",
   "name": "python",
   "nbconvert_exporter": "python",
   "pygments_lexer": "ipython3",
   "version": "3.10.6"
  }
 },
 "nbformat": 4,
 "nbformat_minor": 5
}
