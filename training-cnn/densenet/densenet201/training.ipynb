{
 "cells": [
  {
   "cell_type": "code",
   "execution_count": null,
   "id": "a8949673",
   "metadata": {},
   "outputs": [],
   "source": [
    "import torch\n",
    "import torch.nn as nn\n",
    "import torchvision.models as models\n",
    "from torchvision import datasets, transforms\n",
    "from torch.utils.data import DataLoader"
   ]
  },
  {
   "cell_type": "code",
   "execution_count": null,
   "id": "bfd779bd",
   "metadata": {},
   "outputs": [],
   "source": [
    "IMAGE_SIZE = 224\n",
    "BATCH_SIZE = 16\n",
    "NUM_WORKERS = 2\n",
    "MEAN = [0.485, 0.456, 0.406]\n",
    "STD  = [0.229, 0.224, 0.225]\n",
    "LEARNING_RATE = 1e-3\n",
    "NUM_EPOCHS = 30"
   ]
  },
  {
   "cell_type": "code",
   "execution_count": null,
   "id": "4f83674d",
   "metadata": {},
   "outputs": [],
   "source": [
    "train_transforms = transforms.Compose([\n",
    "    transforms.RandomResizedCrop(IMAGE_SIZE, scale=(0.8, 1.0)), \n",
    "    transforms.RandomHorizontalFlip(),                    \n",
    "    transforms.RandomVerticalFlip(),\n",
    "    transforms.RandomRotation(15),                         \n",
    "    transforms.ColorJitter(brightness=0.2, contrast=0.2),\n",
    "    transforms.ToTensor(),                               \n",
    "    transforms.Normalize(MEAN, STD)                    \n",
    "])\n",
    "\n",
    "val_transforms = transforms.Compose([\n",
    "    transforms.Resize(256),\n",
    "    transforms.CenterCrop(IMAGE_SIZE),\n",
    "    transforms.ToTensor(),\n",
    "    transforms.Normalize(MEAN, STD)\n",
    "])"
   ]
  },
  {
   "cell_type": "code",
   "execution_count": null,
   "id": "eb7350e8",
   "metadata": {},
   "outputs": [],
   "source": [
    "train_dataset_path = \"../../../dataset/train\"\n",
    "val_dataset_path = \"../../../dataset/val\"\n",
    "\n",
    "train_dataset = datasets.ImageFolder(root=train_dataset_path, transform=train_transforms)\n",
    "val_dataset = datasets.ImageFolder(root=val_dataset_path, transform=val_transforms)\n",
    "\n",
    "train_loader = DataLoader(\n",
    "    train_dataset, \n",
    "    batch_size=BATCH_SIZE, \n",
    "    shuffle=True, \n",
    "    num_workers=NUM_WORKERS,\n",
    "    pin_memory=True)\n",
    "\n",
    "val_loader = DataLoader(\n",
    "    val_dataset,\n",
    "    batch_size=BATCH_SIZE,\n",
    "    num_workers=NUM_WORKERS,\n",
    "    pin_memory=True\n",
    ")\n",
    "\n",
    "print(f\"Classes detected: {train_dataset.classes}\")\n"
   ]
  },
  {
   "cell_type": "code",
   "execution_count": null,
   "id": "d0559977",
   "metadata": {},
   "outputs": [],
   "source": [
    "model = models.densenet201(weights=models.DenseNet201_Weights.IMAGENET1K_V1)\n",
    "\n",
    "device = torch.device(\"cuda\" if torch.cuda.is_available() else \"cpu\")\n",
    "model = model.to(device)"
   ]
  },
  {
   "cell_type": "code",
   "execution_count": null,
   "id": "4651975f",
   "metadata": {},
   "outputs": [],
   "source": [
    "criterion = nn.CrossEntropyLoss()\n",
    "optimizer = torch.optim.Adam(model.parameters(), lr=LEARNING_RATE)"
   ]
  },
  {
   "cell_type": "code",
   "execution_count": null,
   "id": "43dc2f33",
   "metadata": {},
   "outputs": [],
   "source": [
    "def train_one_epoch(model, loader, optimizer, criterion, device):\n",
    "    model.train()\n",
    "    running_loss, correct,total = 0.0, 0, 0\n",
    "    \n",
    "    for images, labels, in loader:\n",
    "        images, labels = images.to(device), labels.to(device)\n",
    "        optimizer.zero_grad()\n",
    "        outputs = model(images)\n",
    "        loss = criterion(outputs, labels)\n",
    "        loss.backward()\n",
    "        optimizer.step()\n",
    "        \n",
    "        running_loss += loss.item() * images.size(0)\n",
    "        preds = outputs.argmax(dim=1)\n",
    "        correct += (preds == labels).sum().item()\n",
    "        total += images.size(0)\n",
    "    return running_loss/total, correct/total\n",
    "    "
   ]
  },
  {
   "cell_type": "code",
   "execution_count": null,
   "id": "fcb4e70e",
   "metadata": {},
   "outputs": [],
   "source": [
    "def validate(model, loader, criterion, device):\n",
    "    model.eval()\n",
    "    val_loss, correct, total = 0.0, 0, 0\n",
    "    with torch.no_grad():\n",
    "        for images, labels in loader:\n",
    "            images, labels = images.to(device), labels.to(device)\n",
    "            outputs = model(images)\n",
    "            loss = criterion(outputs, labels)\n",
    "            \n",
    "            val_loss += loss.item() * images.size(0)\n",
    "            preds = outputs.argmax(dim=1)\n",
    "            correct += (preds == labels).sum().item()\n",
    "            total += images.size(0)\n",
    "    return val_loss/total, correct/total"
   ]
  },
  {
   "cell_type": "code",
   "execution_count": null,
   "id": "67ec6fdb",
   "metadata": {},
   "outputs": [
    {
     "name": "stdout",
     "output_type": "stream",
     "text": [
      "Total batches: 290\n",
      "Epoch 1/30: Train loss 0.9940, acc 0.6956 | Val   loss 0.4941, acc 0.8717\n",
      "Epoch 2/30: Train loss 0.5772, acc 0.8145 | Val   loss 0.4204, acc 0.8657\n",
      "Epoch 3/30: Train loss 0.5042, acc 0.8329 | Val   loss 0.3051, acc 0.9101\n",
      "Epoch 4/30: Train loss 0.4521, acc 0.8489 | Val   loss 0.2990, acc 0.9121\n",
      "Epoch 5/30: Train loss 0.4311, acc 0.8504 | Val   loss 0.2829, acc 0.9141\n",
      "Epoch 6/30: Train loss 0.4160, acc 0.8545 | Val   loss 0.2590, acc 0.9303\n",
      "Epoch 7/30: Train loss 0.4340, acc 0.8459 | Val   loss 0.2470, acc 0.9253\n",
      "Epoch 8/30: Train loss 0.4345, acc 0.8454 | Val   loss 0.2904, acc 0.8990\n",
      "Epoch 9/30: Train loss 0.4257, acc 0.8519 | Val   loss 0.2590, acc 0.9131\n",
      "Epoch 10/30: Train loss 0.4145, acc 0.8517 | Val   loss 0.2287, acc 0.9343\n",
      "Epoch 11/30: Train loss 0.4035, acc 0.8573 | Val   loss 0.2307, acc 0.9202\n",
      "Epoch 12/30: Train loss 0.4304, acc 0.8465 | Val   loss 0.2216, acc 0.9182\n",
      "Epoch 13/30: Train loss 0.3932, acc 0.8578 | Val   loss 0.2636, acc 0.9051\n",
      "Epoch 14/30: Train loss 0.3914, acc 0.8580 | Val   loss 0.2279, acc 0.9202\n",
      "Epoch 15/30: Train loss 0.3915, acc 0.8621 | Val   loss 0.2233, acc 0.9192\n",
      "Epoch 16/30: Train loss 0.3983, acc 0.8593 | Val   loss 0.2334, acc 0.9192\n",
      "Epoch 17/30: Train loss 0.4175, acc 0.8539 | Val   loss 0.2199, acc 0.9212\n",
      "Epoch 18/30: Train loss 0.3933, acc 0.8591 | Val   loss 0.2227, acc 0.9323\n",
      "Epoch 19/30: Train loss 0.3939, acc 0.8606 | Val   loss 0.2187, acc 0.9323\n",
      "Epoch 20/30: Train loss 0.3876, acc 0.8632 | Val   loss 0.2362, acc 0.9202\n",
      "Epoch 21/30: Train loss 0.3913, acc 0.8660 | Val   loss 0.2215, acc 0.9232\n",
      "Epoch 22/30: Train loss 0.3908, acc 0.8625 | Val   loss 0.1919, acc 0.9333\n",
      "Epoch 23/30: Train loss 0.3949, acc 0.8642 | Val   loss 0.2528, acc 0.9202\n",
      "Epoch 24/30: Train loss 0.3870, acc 0.8578 | Val   loss 0.2039, acc 0.9354\n",
      "Epoch 25/30: Train loss 0.3984, acc 0.8645 | Val   loss 0.2029, acc 0.9263\n",
      "Epoch 26/30: Train loss 0.4060, acc 0.8556 | Val   loss 0.2192, acc 0.9232\n",
      "Epoch 27/30: Train loss 0.4149, acc 0.8608 | Val   loss 0.1963, acc 0.9374\n",
      "Epoch 28/30: Train loss 0.4102, acc 0.8552 | Val   loss 0.2474, acc 0.9222\n",
      "Epoch 29/30: Train loss 0.4184, acc 0.8530 | Val   loss 0.2096, acc 0.9232\n",
      "Epoch 30/30: Train loss 0.3971, acc 0.8645 | Val   loss 0.2365, acc 0.9202\n"
     ]
    }
   ],
   "source": [
    "best_val_loss = float('inf')\n",
    "\n",
    "for epoch in range(NUM_EPOCHS):\n",
    "    train_loss, train_acc = train_one_epoch(model, train_loader, optimizer, criterion, device)\n",
    "    val_loss, val_acc = validate(model, val_loader, criterion, device)\n",
    "    \n",
    "    print(f\"Epoch {epoch + 1}/{NUM_EPOCHS}: \"\n",
    "          f\"Train loss {train_loss:.4f}, acc {train_acc:.4f} | \"\n",
    "          f\"Val loss {val_loss:.4f}, acc {train_acc:.4f}\"\n",
    "          )\n",
    "    \n",
    "    if(val_loss < best_val_loss):\n",
    "        best_val_loss = val_loss\n",
    "        torch.save(model.state_dict(), \"best_densenet201.pth\")"
   ]
  }
 ],
 "metadata": {
  "language_info": {
   "name": "python"
  }
 },
 "nbformat": 4,
 "nbformat_minor": 5
}
