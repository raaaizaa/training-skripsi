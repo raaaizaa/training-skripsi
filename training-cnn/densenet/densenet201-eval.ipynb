{
 "cells": [
  {
   "cell_type": "code",
   "execution_count": 1,
   "metadata": {},
   "outputs": [],
   "source": [
    "import torch\n",
    "import torchvision.models as models\n",
    "import torchvision.transforms as transform\n",
    "from torchvision.datasets import ImageFolder\n",
    "from torch.utils.data import DataLoader\n",
    "from sklearn.metrics import classification_report\n",
    "import torch.nn as nn"
   ]
  },
  {
   "cell_type": "code",
   "execution_count": 2,
   "metadata": {},
   "outputs": [],
   "source": [
    "transform = transform.Compose([\n",
    "    transform.Resize(224),\n",
    "    transform.CenterCrop(224),\n",
    "    transform.ToTensor(),\n",
    "    transform.Normalize(mean=[0.485, 0.456, 0.406],\n",
    "                 std=[0.229, 0.224, 0.225]),\n",
    "])"
   ]
  },
  {
   "cell_type": "code",
   "execution_count": 3,
   "metadata": {},
   "outputs": [],
   "source": [
    "test_dir = '../../dataset-dapa/test/'\n",
    "\n",
    "test_dataset = ImageFolder(test_dir, transform=transform)\n",
    "test_loader = DataLoader(test_dataset, batch_size=8, shuffle=False, num_workers=0)"
   ]
  },
  {
   "cell_type": "code",
   "execution_count": null,
   "metadata": {},
   "outputs": [
    {
     "name": "stdout",
     "output_type": "stream",
     "text": [
      "is cuda available? True\n"
     ]
    }
   ],
   "source": [
    "model = models.densenet201(weights=models.DenseNet201_Weights.IMAGENET1K_V1)\n",
    "features = model.features\n",
    "features.requires_grad_(False) \n",
    "\n",
    "num_classes = len(test_dataset.classes)\n",
    "model.classifier = nn.Sequential(\n",
    "    nn.Dropout(0.3),\n",
    "    nn.Linear(model.classifier.in_features, num_classes)\n",
    ")\n",
    "\n",
    "device = torch.device(\"cuda\" if torch.cuda.is_available() else \"cpu\")\n",
    "model.load_state_dict(torch.load('best_densenet201.pth', map_location=device))\n",
    "print('is cuda available?', torch.cuda.is_available())\n",
    "model = model.to(device)\n"
   ]
  },
  {
   "cell_type": "code",
   "execution_count": 5,
   "metadata": {},
   "outputs": [
    {
     "name": "stdout",
     "output_type": "stream",
     "text": [
      "Test Accuracy: 90.45%\n",
      "\n",
      "Class                     Precision  Recall     F1-Score   Accuracy  \n",
      "-----------------------------------------------------------------\n",
      "algal_spot                0.95       0.95       0.95       95.29     \n",
      "brown_blight              0.82       0.92       0.87       91.79     \n",
      "gray_blight               0.90       0.83       0.86       82.82     \n",
      "healthy                   0.97       0.81       0.88       80.67     \n",
      "helopeltis                0.97       0.93       0.95       92.67     \n",
      "red-rust                  0.83       0.83       0.83       83.33     \n",
      "red-spider-infested       1.00       1.00       1.00       100.00    \n",
      "red_spot                  0.84       0.98       0.91       98.26     \n",
      "white-spot                1.00       0.91       0.95       90.91     \n"
     ]
    }
   ],
   "source": [
    "correct = 0\n",
    "total = 0\n",
    "all_preds = []\n",
    "all_labels = []\n",
    "\n",
    "model.eval()\n",
    "with torch.no_grad():\n",
    "    for images, labels in test_loader:\n",
    "        images, labels = images.to(device), labels.to(device)\n",
    "        outputs = model(images)\n",
    "        _, predicted = torch.max(outputs.data, 1)\n",
    "\n",
    "        total += labels.size(0)\n",
    "        correct += (predicted == labels).sum().item()\n",
    "\n",
    "        all_preds.extend(predicted.cpu().numpy())\n",
    "        all_labels.extend(labels.cpu().numpy())\n",
    "\n",
    "accuracy = 100 * correct / total\n",
    "print(f\"Test Accuracy: {accuracy:.2f}%\\n\")\n",
    "\n",
    "report = classification_report(all_labels, all_preds, target_names=test_dataset.classes, output_dict=True)\n",
    "\n",
    "print(f\"{'Class':<25} {'Precision':<10} {'Recall':<10} {'F1-Score':<10} {'Accuracy':<10}\")\n",
    "print(\"-\" * 65)\n",
    "for class_name in test_dataset.classes:\n",
    "    cls_report = report[class_name]\n",
    "    precision = cls_report['precision']\n",
    "    recall = cls_report['recall']\n",
    "    f1 = cls_report['f1-score']\n",
    "    support = cls_report['support']\n",
    "    acc = (recall * support) / support\n",
    "    print(f\"{class_name:<25} {precision:<10.2f} {recall:<10.2f} {f1:<10.2f} {acc*100:<10.2f}\")"
   ]
  }
 ],
 "metadata": {
  "kernelspec": {
   "display_name": "Python 3",
   "language": "python",
   "name": "python3"
  },
  "language_info": {
   "codemirror_mode": {
    "name": "ipython",
    "version": 3
   },
   "file_extension": ".py",
   "mimetype": "text/x-python",
   "name": "python",
   "nbconvert_exporter": "python",
   "pygments_lexer": "ipython3",
   "version": "3.10.6"
  }
 },
 "nbformat": 4,
 "nbformat_minor": 2
}
